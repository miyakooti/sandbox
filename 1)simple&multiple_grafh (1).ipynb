{
 "cells": [
  {
   "cell_type": "markdown",
   "metadata": {},
   "source": [
    "## 単回帰分析\n",
    "回帰分析はデータ分析による予測の基礎となります。<br>\n",
    "回帰分析のうち、単回帰分析は1つの目的変数を1つの説明変数で予測するもので、<br>\n",
    "式で表すと以下となります。<br>\n",
    "## Y＝aX＋b<br>\n",
    "a（傾き）とb（Y切片）がわかれば、XからYを予測することができます。<br>\n"
   ]
  },
  {
   "cell_type": "markdown",
   "metadata": {},
   "source": [
    "今回、単回帰分析で利用するデータは2007年のJリーグの順位と総収入、人件費です。<br>\n",
    "具体的には<br>\n",
    "①2007年J1 人件費vs 順位<br>\n",
    "②2007年J1 総収入vs 順位<br>\n",
    "③2007年J2 人件費vs 順位<br>\n",
    "④2007年J2 総収入vs 順位<br>"
   ]
  },
  {
   "cell_type": "markdown",
   "metadata": {},
   "source": [
    "## 重回帰分析"
   ]
  },
  {
   "cell_type": "markdown",
   "metadata": {},
   "source": [
    "単回帰分析が、1つの目的変数を1つの説明変数で予測したのに対し、重回帰分析は1つの目的変数を複数の説明変数で予測しようというものです。<br>\n",
    "身長から体重を予測するのが単回帰分析で、身長と腹囲と胸囲から体重を予測するのが重回帰分析です。<br>\n",
    "式で表すと以下のようになります。<br>\n",
    "\n",
    "## Y =b1X1+b2X2+b2X3+ .........\n",
    "\n",
    "今回、重回帰分析で利用するデータは2007年のJ2リーグの順位と総収入、人件費です。<br>\n",
    "具体的には<br>\n",
    "⑤2007年J2 総収入、人件費vs 順位"
   ]
  },
  {
   "cell_type": "code",
   "execution_count": 1,
   "metadata": {},
   "outputs": [],
   "source": [
    "%matplotlib inline\n",
    "import pandas as pd\n",
    "import matplotlib.pyplot as plt\n",
    "import random\n",
    "import numpy as np\n",
    "import sklearn\n"
   ]
  },
  {
   "cell_type": "code",
   "execution_count": 2,
   "metadata": {},
   "outputs": [],
   "source": [
    "# sklearn.linear_model.LinearRegression クラスを読み込み\n",
    "from sklearn import linear_model\n",
    "clf = linear_model.LinearRegression()"
   ]
  },
  {
   "cell_type": "markdown",
   "metadata": {},
   "source": [
    "## <span style=\"color: blue; \">①2007年J1 人件費vs 順位</span>"
   ]
  },
  {
   "cell_type": "code",
   "execution_count": 3,
   "metadata": {},
   "outputs": [
    {
     "data": {
      "text/html": [
       "<div>\n",
       "<style scoped>\n",
       "    .dataframe tbody tr th:only-of-type {\n",
       "        vertical-align: middle;\n",
       "    }\n",
       "\n",
       "    .dataframe tbody tr th {\n",
       "        vertical-align: top;\n",
       "    }\n",
       "\n",
       "    .dataframe thead th {\n",
       "        text-align: right;\n",
       "    }\n",
       "</style>\n",
       "<table border=\"1\" class=\"dataframe\">\n",
       "  <thead>\n",
       "    <tr style=\"text-align: right;\">\n",
       "      <th></th>\n",
       "      <th>クラブ</th>\n",
       "      <th>順位</th>\n",
       "      <th>総収入百万円</th>\n",
       "      <th>人件費百万円</th>\n",
       "    </tr>\n",
       "  </thead>\n",
       "  <tbody>\n",
       "    <tr>\n",
       "      <th>0</th>\n",
       "      <td>鹿島</td>\n",
       "      <td>1</td>\n",
       "      <td>3983</td>\n",
       "      <td>1736</td>\n",
       "    </tr>\n",
       "    <tr>\n",
       "      <th>1</th>\n",
       "      <td>浦和</td>\n",
       "      <td>2</td>\n",
       "      <td>7964</td>\n",
       "      <td>2841</td>\n",
       "    </tr>\n",
       "    <tr>\n",
       "      <th>2</th>\n",
       "      <td>Ｇ大阪</td>\n",
       "      <td>3</td>\n",
       "      <td>3212</td>\n",
       "      <td>1927</td>\n",
       "    </tr>\n",
       "    <tr>\n",
       "      <th>3</th>\n",
       "      <td>清水</td>\n",
       "      <td>4</td>\n",
       "      <td>3180</td>\n",
       "      <td>1263</td>\n",
       "    </tr>\n",
       "    <tr>\n",
       "      <th>4</th>\n",
       "      <td>川崎</td>\n",
       "      <td>5</td>\n",
       "      <td>3105</td>\n",
       "      <td>1639</td>\n",
       "    </tr>\n",
       "    <tr>\n",
       "      <th>5</th>\n",
       "      <td>新潟</td>\n",
       "      <td>6</td>\n",
       "      <td>2661</td>\n",
       "      <td>1374</td>\n",
       "    </tr>\n",
       "    <tr>\n",
       "      <th>6</th>\n",
       "      <td>横浜ＦＭ</td>\n",
       "      <td>7</td>\n",
       "      <td>4909</td>\n",
       "      <td>1961</td>\n",
       "    </tr>\n",
       "    <tr>\n",
       "      <th>7</th>\n",
       "      <td>柏</td>\n",
       "      <td>8</td>\n",
       "      <td>3143</td>\n",
       "      <td>1693</td>\n",
       "    </tr>\n",
       "    <tr>\n",
       "      <th>8</th>\n",
       "      <td>磐田</td>\n",
       "      <td>9</td>\n",
       "      <td>3594</td>\n",
       "      <td>1575</td>\n",
       "    </tr>\n",
       "    <tr>\n",
       "      <th>9</th>\n",
       "      <td>神戸</td>\n",
       "      <td>10</td>\n",
       "      <td>1865</td>\n",
       "      <td>1317</td>\n",
       "    </tr>\n",
       "    <tr>\n",
       "      <th>10</th>\n",
       "      <td>名古屋</td>\n",
       "      <td>11</td>\n",
       "      <td>3635</td>\n",
       "      <td>1770</td>\n",
       "    </tr>\n",
       "    <tr>\n",
       "      <th>11</th>\n",
       "      <td>Ｆ東京</td>\n",
       "      <td>12</td>\n",
       "      <td>3347</td>\n",
       "      <td>1680</td>\n",
       "    </tr>\n",
       "    <tr>\n",
       "      <th>12</th>\n",
       "      <td>千葉</td>\n",
       "      <td>13</td>\n",
       "      <td>3112</td>\n",
       "      <td>1310</td>\n",
       "    </tr>\n",
       "    <tr>\n",
       "      <th>13</th>\n",
       "      <td>大分</td>\n",
       "      <td>14</td>\n",
       "      <td>2261</td>\n",
       "      <td>1283</td>\n",
       "    </tr>\n",
       "    <tr>\n",
       "      <th>14</th>\n",
       "      <td>大宮</td>\n",
       "      <td>15</td>\n",
       "      <td>2842</td>\n",
       "      <td>1384</td>\n",
       "    </tr>\n",
       "    <tr>\n",
       "      <th>15</th>\n",
       "      <td>広島</td>\n",
       "      <td>16</td>\n",
       "      <td>2626</td>\n",
       "      <td>1236</td>\n",
       "    </tr>\n",
       "    <tr>\n",
       "      <th>16</th>\n",
       "      <td>甲府</td>\n",
       "      <td>17</td>\n",
       "      <td>1655</td>\n",
       "      <td>741</td>\n",
       "    </tr>\n",
       "    <tr>\n",
       "      <th>17</th>\n",
       "      <td>横浜ＦＣ</td>\n",
       "      <td>18</td>\n",
       "      <td>1706</td>\n",
       "      <td>862</td>\n",
       "    </tr>\n",
       "  </tbody>\n",
       "</table>\n",
       "</div>"
      ],
      "text/plain": [
       "     クラブ  順位  総収入百万円  人件費百万円\n",
       "0     鹿島   1    3983    1736\n",
       "1     浦和   2    7964    2841\n",
       "2    Ｇ大阪   3    3212    1927\n",
       "3     清水   4    3180    1263\n",
       "4     川崎   5    3105    1639\n",
       "5     新潟   6    2661    1374\n",
       "6   横浜ＦＭ   7    4909    1961\n",
       "7      柏   8    3143    1693\n",
       "8     磐田   9    3594    1575\n",
       "9     神戸  10    1865    1317\n",
       "10   名古屋  11    3635    1770\n",
       "11   Ｆ東京  12    3347    1680\n",
       "12    千葉  13    3112    1310\n",
       "13    大分  14    2261    1283\n",
       "14    大宮  15    2842    1384\n",
       "15    広島  16    2626    1236\n",
       "16    甲府  17    1655     741\n",
       "17  横浜ＦＣ  18    1706     862"
      ]
     },
     "execution_count": 3,
     "metadata": {},
     "output_type": "execute_result"
    }
   ],
   "source": [
    "df2007J1 = pd.read_csv(\"2007J1.csv\")\n",
    "df2007J1.head(30)"
   ]
  },
  {
   "cell_type": "code",
   "execution_count": null,
   "metadata": {},
   "outputs": [],
   "source": []
  },
  {
   "cell_type": "code",
   "execution_count": 4,
   "metadata": {},
   "outputs": [
    {
     "name": "stdout",
     "output_type": "stream",
     "text": [
      "[-0.00809096]\n",
      "21.902548284027347\n",
      "0.49342353571523323\n"
     ]
    }
   ],
   "source": [
    "# 説明変数に \"人件費百万円\" を利用\n",
    "X = df2007J1.loc[:, ['人件費百万円']].values\n",
    " \n",
    "# 目的変数に \"順位\" を利用\n",
    "Y = df2007J1['順位'].values\n",
    " \n",
    "# 予測モデルを作成\n",
    "clf.fit(X, Y)\n",
    " \n",
    "# 回帰係数\n",
    "print(clf.coef_)\n",
    " \n",
    "# 切片 (誤差)\n",
    "print(clf.intercept_)\n",
    " \n",
    "# 決定係数\n",
    "print(clf.score(X, Y))"
   ]
  },
  {
   "cell_type": "code",
   "execution_count": 5,
   "metadata": {},
   "outputs": [
    {
     "data": {
      "text/plain": [
       "[<matplotlib.lines.Line2D at 0x7f0796252df0>]"
      ]
     },
     "execution_count": 5,
     "metadata": {},
     "output_type": "execute_result"
    },
    {
     "data": {
      "image/png": "[encoded data removed]",
      "text/plain": [
       "<Figure size 432x288 with 1 Axes>"
      ]
     },
     "metadata": {
      "needs_background": "light"
     },
     "output_type": "display_data"
    }
   ],
   "source": [
    "# matplotlib パッケージを読み込み\n",
    "import matplotlib.pyplot as plt\n",
    " \n",
    "# 散布図\n",
    "plt.scatter(X, Y, c='purple')\n",
    " \n",
    "# 回帰直線\n",
    "plt.plot(X, clf.predict(X))"
   ]
  },
  {
   "cell_type": "markdown",
   "metadata": {},
   "source": [
    "## <span style=\"color: blue; \">②2007年J1 総収入vs 順位</span>"
   ]
  },
  {
   "cell_type": "code",
   "execution_count": 6,
   "metadata": {},
   "outputs": [
    {
     "name": "stdout",
     "output_type": "stream",
     "text": [
      "[-0.00227357]\n",
      "16.92698598147739\n",
      "0.3687965219373789\n"
     ]
    }
   ],
   "source": [
    "# sklearn.linear_model.LinearRegression クラスを読み込み\n",
    "from sklearn import linear_model\n",
    "clf = linear_model.LinearRegression()\n",
    " \n",
    "# 説明変数に \"総収入百万円\" を利用\n",
    "X = df2007J1.loc[:, ['総収入百万円']].values\n",
    " \n",
    "# 目的変数に \"順位\" を利用\n",
    "Y = df2007J1['順位'].values\n",
    " \n",
    "# 予測モデルを作成\n",
    "clf.fit(X, Y)\n",
    " \n",
    "# 回帰係数\n",
    "print(clf.coef_)\n",
    " \n",
    "# 切片 (誤差)\n",
    "print(clf.intercept_)\n",
    " \n",
    "# 決定係数\n",
    "print(clf.score(X, Y))"
   ]
  },
  {
   "cell_type": "code",
   "execution_count": 7,
   "metadata": {},
   "outputs": [
    {
     "data": {
      "text/plain": [
       "[<matplotlib.lines.Line2D at 0x7f0794156100>]"
      ]
     },
     "execution_count": 7,
     "metadata": {},
     "output_type": "execute_result"
    },
    {
     "data": {
      "image/png": "[encoded data removed]",
      "text/plain": [
       "<Figure size 432x288 with 1 Axes>"
      ]
     },
     "metadata": {
      "needs_background": "light"
     },
     "output_type": "display_data"
    }
   ],
   "source": [
    "# matplotlib パッケージを読み込み\n",
    "import matplotlib.pyplot as plt\n",
    " \n",
    "# 散布図\n",
    "plt.scatter(X, Y, c='purple')\n",
    " \n",
    "# 回帰直線\n",
    "plt.plot(X, clf.predict(X))"
   ]
  },
  {
   "cell_type": "markdown",
   "metadata": {},
   "source": [
    "## <span style=\"color: blue; \">③2007年J2 総収入vs 順位</span>"
   ]
  },
  {
   "cell_type": "code",
   "execution_count": 8,
   "metadata": {},
   "outputs": [],
   "source": [
    "df = pd.read_csv(\"2007J2.csv\")\n",
    "df.head(5)\n",
    "\n",
    "sigma_ope = 2\n"
   ]
  },
  {
   "cell_type": "code",
   "execution_count": 9,
   "metadata": {},
   "outputs": [
    {
     "name": "stdout",
     "output_type": "stream",
     "text": [
      "左側-293.6049271995812、右側2619.297234891889\n"
     ]
    }
   ],
   "source": [
    "import matplotlib.pyplot as plt\n",
    "\n",
    "from statistics import stdev\n",
    "\n",
    "x = df.loc[:, ['総収入百万円']].values\n",
    " \n",
    "# 目的変数に \"順位\" を利用\n",
    "y = df['順位'].values\n",
    "\n",
    "me = np.mean(x)\n",
    "sd = np.std(x)\n",
    "\n",
    "hidari = me - sigma_ope*sd\n",
    "migi = me + sigma_ope*sd\n",
    "\n",
    "print(f\"左側{hidari}、右側{migi}\")"
   ]
  },
  {
   "cell_type": "code",
   "execution_count": 10,
   "metadata": {},
   "outputs": [
    {
     "name": "stdout",
     "output_type": "stream",
     "text": [
      "決定係数は 0.6497204201608042\n"
     ]
    }
   ],
   "source": [
    "\n",
    "\n",
    "# 説明変数に \"人件費百万円\" を利用\n",
    "X = df.loc[:, ['総収入百万円']].values\n",
    " \n",
    "# 目的変数に \"順位\" を利用\n",
    "Y = df['順位'].values\n",
    " \n",
    "# 予測モデルを作成\n",
    "clf.fit(X, Y)\n",
    " \n",
    "# 回帰係数\n",
    "# print(clf.coef_)\n",
    " \n",
    "# 切片 (誤差)\n",
    "# print(clf.intercept_)\n",
    " \n",
    "# 決定係数\n",
    "print(\"決定係数は\", clf.score(X, Y))\n",
    "\n",
    "pre = clf.score(X, Y)"
   ]
  },
  {
   "cell_type": "markdown",
   "metadata": {},
   "source": [
    "# 総収入外れ値の除去をしてみる（2σ）"
   ]
  },
  {
   "cell_type": "markdown",
   "metadata": {},
   "source": [
    "# 除去前"
   ]
  },
  {
   "cell_type": "code",
   "execution_count": 11,
   "metadata": {},
   "outputs": [
    {
     "name": "stdout",
     "output_type": "stream",
     "text": [
      "2619.297234891889\n"
     ]
    },
    {
     "data": {
      "text/plain": [
       "<matplotlib.collections.LineCollection at 0x7f07940c1640>"
      ]
     },
     "execution_count": 11,
     "metadata": {},
     "output_type": "execute_result"
    },
    {
     "data": {
      "image/png": "[encoded data removed]",
      "text/plain": [
       "<Figure size 432x288 with 1 Axes>"
      ]
     },
     "metadata": {
      "needs_background": "light"
     },
     "output_type": "display_data"
    }
   ],
   "source": [
    "# matplotlib パッケージを読み込み\n",
    "import matplotlib.pyplot as plt\n",
    " \n",
    "# 散布図\n",
    "plt.scatter(X, Y, c='purple')\n",
    " \n",
    "# 回帰直線\n",
    "plt.plot(X, clf.predict(X))\n",
    "\n",
    "print(migi)\n",
    "\n",
    "plt.vlines(migi, min(Y)-1, max(Y)+1, color=\"g\")\n",
    "plt.vlines(hidari, min(Y)-1, max(Y)+1, color=\"g\")"
   ]
  },
  {
   "cell_type": "markdown",
   "metadata": {},
   "source": [
    "# 除去処理"
   ]
  },
  {
   "cell_type": "code",
   "execution_count": 12,
   "metadata": {},
   "outputs": [
    {
     "name": "stdout",
     "output_type": "stream",
     "text": [
      "2619.297234891889\n"
     ]
    }
   ],
   "source": [
    "\n",
    "# 説明変数に \"人件費百万円\" を利用\n",
    "x = df.loc[:, ['総収入百万円']].values\n",
    "\n",
    "me = np.mean(x)\n",
    "sd = np.std(x)\n",
    "\n",
    "hidari = me - sigma_ope*sd\n",
    "migi = me + sigma_ope*sd\n",
    "\n",
    "print(migi)\n",
    "\n",
    "df = df[df.総収入百万円 < migi]"
   ]
  },
  {
   "cell_type": "code",
   "execution_count": 13,
   "metadata": {},
   "outputs": [
    {
     "data": {
      "text/plain": [
       "<matplotlib.collections.LineCollection at 0x7f079403d5b0>"
      ]
     },
     "execution_count": 13,
     "metadata": {},
     "output_type": "execute_result"
    },
    {
     "data": {
      "image/png": "[encoded data removed]",
      "text/plain": [
       "<Figure size 432x288 with 1 Axes>"
      ]
     },
     "metadata": {
      "needs_background": "light"
     },
     "output_type": "display_data"
    }
   ],
   "source": [
    "# 散布図（赤が外れ値）\n",
    "plt.scatter(x, y, c='red')\n",
    "plt.scatter(df[\"総収入百万円\"], df[\"順位\"], c='purple')\n",
    "\n",
    "# 回帰直線\n",
    "plt.plot(x, clf.predict(x))\n",
    "\n",
    "plt.vlines(migi, min(y)-1, max(y)+1, color=\"g\")\n",
    "plt.vlines(hidari, min(y)-1, max(y)+1, color=\"g\")"
   ]
  },
  {
   "cell_type": "code",
   "execution_count": 14,
   "metadata": {},
   "outputs": [
    {
     "name": "stdout",
     "output_type": "stream",
     "text": [
      "決定係数は 0.6055053226590699\n"
     ]
    }
   ],
   "source": [
    "x = df.loc[:, ['総収入百万円']].values\n",
    "y = df['順位'].values\n",
    " \n",
    "# 予測モデルを作成\n",
    "clf.fit(x, y)\n",
    " \n",
    "# 決定係数\n",
    "print(\"決定係数は\", clf.score(x, y))\n",
    "post = clf.score(x, y)"
   ]
  },
  {
   "cell_type": "code",
   "execution_count": 19,
   "metadata": {},
   "outputs": [
    {
     "name": "stdout",
     "output_type": "stream",
     "text": [
      "決定係数が-0.044上昇しました\n"
     ]
    }
   ],
   "source": [
    "dif = post - pre\n",
    "print(f\"決定係数が{round(dif, 3)}上昇しました\")"
   ]
  },
  {
   "cell_type": "markdown",
   "metadata": {},
   "source": [
    "## <span style=\"color: blue; \">④2007年J2 総収入vs 順位</span>"
   ]
  },
  {
   "cell_type": "code",
   "execution_count": 43,
   "metadata": {},
   "outputs": [
    {
     "name": "stdout",
     "output_type": "stream",
     "text": [
      "[-0.00414154]\n",
      "11.815968418394236\n",
      "0.6497204201608042\n"
     ]
    }
   ],
   "source": [
    "# sklearn.linear_model.LinearRegression クラスを読み込み\n",
    "from sklearn import linear_model\n",
    "clf = linear_model.LinearRegression()\n",
    " \n",
    "# 説明変数に \"density (濃度)\" を利用\n",
    "X = df.loc[:, ['総収入百万円']].values\n",
    " \n",
    "# 目的変数に \"alcohol (アルコール度数)\" を利用\n",
    "Y = df['順位'].values\n",
    " \n",
    "# 予測モデルを作成\n",
    "clf.fit(X, Y)\n",
    " \n",
    "# 回帰係数\n",
    "print(clf.coef_)\n",
    " \n",
    "# 切片 (誤差)\n",
    "print(clf.intercept_)\n",
    " \n",
    "# 決定係数\n",
    "print(clf.score(X, Y))"
   ]
  },
  {
   "cell_type": "code",
   "execution_count": 44,
   "metadata": {},
   "outputs": [
    {
     "data": {
      "text/plain": [
       "[<matplotlib.lines.Line2D at 0x7f0792f5ba60>]"
      ]
     },
     "execution_count": 44,
     "metadata": {},
     "output_type": "execute_result"
    },
    {
     "data": {
      "image/png": "[encoded data removed]",
      "text/plain": [
       "<Figure size 432x288 with 1 Axes>"
      ]
     },
     "metadata": {
      "needs_background": "light"
     },
     "output_type": "display_data"
    }
   ],
   "source": [
    "# matplotlib パッケージを読み込み\n",
    "import matplotlib.pyplot as plt\n",
    " \n",
    "# 散布図\n",
    "plt.scatter(X, Y, c='purple')\n",
    " \n",
    "# 回帰直線\n",
    "plt.plot(X, clf.predict(X))"
   ]
  },
  {
   "cell_type": "markdown",
   "metadata": {},
   "source": [
    "## 単回帰分析でわかったこと\n",
    "#### 2007年のJ1,J2の決定係数の比較は以下\n",
    "#### <span style=\"color: purple; \">2007年J1 人件費vs順位; 0.493</span>\n",
    "#### <span style=\"color: purple; \">2007年J1 総収入vs順位; 0.369</span>\n",
    "#### <span style=\"color: blue; \">2007年J2 人件費vs順位; 0.643</span>\n",
    "#### <span style=\"color: blue; \">2007年J2 総収入vs順位; 0.649</span>\n",
    "#### 分析結果から、人件費、総収入が順位に強く影響するのはJ2の方である\n",
    "#### 逆にJ1ではそれ以外の要因が順位に影響すると予想される<br>"
   ]
  },
  {
   "cell_type": "markdown",
   "metadata": {},
   "source": [
    "# 各指標のヒートマップ"
   ]
  },
  {
   "cell_type": "code",
   "execution_count": 27,
   "metadata": {},
   "outputs": [],
   "source": [
    "import seaborn as sns"
   ]
  },
  {
   "cell_type": "code",
   "execution_count": 28,
   "metadata": {},
   "outputs": [
    {
     "data": {
      "text/html": [
       "<div>\n",
       "<style scoped>\n",
       "    .dataframe tbody tr th:only-of-type {\n",
       "        vertical-align: middle;\n",
       "    }\n",
       "\n",
       "    .dataframe tbody tr th {\n",
       "        vertical-align: top;\n",
       "    }\n",
       "\n",
       "    .dataframe thead th {\n",
       "        text-align: right;\n",
       "    }\n",
       "</style>\n",
       "<table border=\"1\" class=\"dataframe\">\n",
       "  <thead>\n",
       "    <tr style=\"text-align: right;\">\n",
       "      <th></th>\n",
       "      <th>クラブ</th>\n",
       "      <th>順位</th>\n",
       "      <th>総収入百万円</th>\n",
       "      <th>人件費百万円</th>\n",
       "    </tr>\n",
       "  </thead>\n",
       "  <tbody>\n",
       "    <tr>\n",
       "      <th>0</th>\n",
       "      <td>札幌</td>\n",
       "      <td>1</td>\n",
       "      <td>1255</td>\n",
       "      <td>537</td>\n",
       "    </tr>\n",
       "    <tr>\n",
       "      <th>1</th>\n",
       "      <td>東京V</td>\n",
       "      <td>2</td>\n",
       "      <td>2672</td>\n",
       "      <td>1290</td>\n",
       "    </tr>\n",
       "    <tr>\n",
       "      <th>2</th>\n",
       "      <td>京都</td>\n",
       "      <td>3</td>\n",
       "      <td>2125</td>\n",
       "      <td>1051</td>\n",
       "    </tr>\n",
       "    <tr>\n",
       "      <th>3</th>\n",
       "      <td>仙台</td>\n",
       "      <td>4</td>\n",
       "      <td>1543</td>\n",
       "      <td>732</td>\n",
       "    </tr>\n",
       "    <tr>\n",
       "      <th>4</th>\n",
       "      <td>C大阪</td>\n",
       "      <td>5</td>\n",
       "      <td>2066</td>\n",
       "      <td>889</td>\n",
       "    </tr>\n",
       "  </tbody>\n",
       "</table>\n",
       "</div>"
      ],
      "text/plain": [
       "   クラブ  順位  総収入百万円  人件費百万円\n",
       "0   札幌   1    1255     537\n",
       "1  東京V   2    2672    1290\n",
       "2   京都   3    2125    1051\n",
       "3   仙台   4    1543     732\n",
       "4  C大阪   5    2066     889"
      ]
     },
     "execution_count": 28,
     "metadata": {},
     "output_type": "execute_result"
    }
   ],
   "source": [
    "df = pd.read_csv(\"2007J2.csv\")\n",
    "df.head(5)"
   ]
  },
  {
   "cell_type": "code",
   "execution_count": 30,
   "metadata": {},
   "outputs": [],
   "source": [
    "df = df.drop([\"クラブ\"], axis=1)"
   ]
  },
  {
   "cell_type": "code",
   "execution_count": 32,
   "metadata": {},
   "outputs": [
    {
     "data": {
      "text/html": [
       "<div>\n",
       "<style scoped>\n",
       "    .dataframe tbody tr th:only-of-type {\n",
       "        vertical-align: middle;\n",
       "    }\n",
       "\n",
       "    .dataframe tbody tr th {\n",
       "        vertical-align: top;\n",
       "    }\n",
       "\n",
       "    .dataframe thead th {\n",
       "        text-align: right;\n",
       "    }\n",
       "</style>\n",
       "<table border=\"1\" class=\"dataframe\">\n",
       "  <thead>\n",
       "    <tr style=\"text-align: right;\">\n",
       "      <th></th>\n",
       "      <th>順位</th>\n",
       "      <th>総収入百万円</th>\n",
       "      <th>人件費百万円</th>\n",
       "    </tr>\n",
       "  </thead>\n",
       "  <tbody>\n",
       "    <tr>\n",
       "      <th>0</th>\n",
       "      <td>1</td>\n",
       "      <td>1255</td>\n",
       "      <td>537</td>\n",
       "    </tr>\n",
       "    <tr>\n",
       "      <th>1</th>\n",
       "      <td>2</td>\n",
       "      <td>2672</td>\n",
       "      <td>1290</td>\n",
       "    </tr>\n",
       "    <tr>\n",
       "      <th>2</th>\n",
       "      <td>3</td>\n",
       "      <td>2125</td>\n",
       "      <td>1051</td>\n",
       "    </tr>\n",
       "    <tr>\n",
       "      <th>3</th>\n",
       "      <td>4</td>\n",
       "      <td>1543</td>\n",
       "      <td>732</td>\n",
       "    </tr>\n",
       "    <tr>\n",
       "      <th>4</th>\n",
       "      <td>5</td>\n",
       "      <td>2066</td>\n",
       "      <td>889</td>\n",
       "    </tr>\n",
       "  </tbody>\n",
       "</table>\n",
       "</div>"
      ],
      "text/plain": [
       "   順位  総収入百万円  人件費百万円\n",
       "0   1    1255     537\n",
       "1   2    2672    1290\n",
       "2   3    2125    1051\n",
       "3   4    1543     732\n",
       "4   5    2066     889"
      ]
     },
     "execution_count": 32,
     "metadata": {},
     "output_type": "execute_result"
    }
   ],
   "source": [
    "df.head(5)"
   ]
  },
  {
   "cell_type": "code",
   "execution_count": 34,
   "metadata": {},
   "outputs": [
    {
     "name": "stdout",
     "output_type": "stream",
     "text": [
      "              順位    総収入百万円    人件費百万円\n",
      "順位      1.000000 -0.806052 -0.801685\n",
      "総収入百万円 -0.806052  1.000000  0.987366\n",
      "人件費百万円 -0.801685  0.987366  1.000000\n"
     ]
    }
   ],
   "source": [
    "corr = df.corr()\n",
    "print(corr)"
   ]
  },
  {
   "cell_type": "markdown",
   "metadata": {},
   "source": [
    "https://seaborn.pydata.org/generated/seaborn.heatmap.html#seaborn.heatmap"
   ]
  },
  {
   "cell_type": "code",
   "execution_count": 49,
   "metadata": {},
   "outputs": [
    {
     "data": {
      "text/plain": [
       "<AxesSubplot:>"
      ]
     },
     "execution_count": 49,
     "metadata": {},
     "output_type": "execute_result"
    },
    {
     "data": {
      "image/png": "[encoded data removed]",
      "text/plain": [
       "<Figure size 432x288 with 2 Axes>"
      ]
     },
     "metadata": {
      "needs_background": "light"
     },
     "output_type": "display_data"
    }
   ],
   "source": [
    "labels = [\"rank\", \"income\", \"labor cost\"]\n",
    "sns.heatmap(corr, cmap='Greens', vmin=-1, vmax=1, annot=True, xticklabels=labels, yticklabels=labels)"
   ]
  },
  {
   "cell_type": "markdown",
   "metadata": {},
   "source": [
    "## 重回帰分析"
   ]
  },
  {
   "cell_type": "markdown",
   "metadata": {},
   "source": [
    "###   2007年J2の順位を目的変数して、その他の項目を説明変数として重回帰分析を行う"
   ]
  },
  {
   "cell_type": "markdown",
   "metadata": {},
   "source": [
    "## <span style=\"color: blue; \">⑤2007年J2 総収入、人件費vs 順位</span>"
   ]
  },
  {
   "cell_type": "code",
   "execution_count": null,
   "metadata": {},
   "outputs": [],
   "source": [
    "from sklearn import linear_model\n",
    "clf = linear_model.LinearRegression()\n",
    " \n",
    "# 説明変数に \"順位、クラブ以外とする\n",
    "df2007J2_except_quality = df2007J2.drop([\"順位\",\"クラブ\"], axis=1)\n",
    "X = df2007J2_except_quality.values\n",
    "x1 = df2007J2['人件費百万円'].values\n",
    "x2 = df2007J2['総収入百万円'].values\n",
    "\n",
    "# 目的変数に \"順位\" を利用\n",
    "Y = df2007J2['順位'].values\n",
    " \n",
    "# 予測モデルを作成\n",
    "clf.fit(X, Y)\n",
    " \n",
    "# 偏回帰係数\n",
    "print(pd.DataFrame({\"Name\":df2007J2_except_quality.columns,\n",
    "                    \"Coefficients\":clf.coef_}).sort_values(by='Coefficients') )\n",
    " \n",
    "# 切片 (誤差)\n",
    "print(clf.intercept_)\n",
    "\n",
    "# パラメータ算出\n",
    "reg_wn = clf.coef_                       # 偏回帰係数\n",
    "print(reg_wn)\n",
    "w_1 = clf.coef_[0]\n",
    "w_2 = clf.coef_[1]\n",
    "print(w_1)\n",
    "print(w_2)\n",
    "\n",
    "reg_w0 = clf.intercept_                  # 切片\n",
    "print(reg_w0)\n",
    "r2 = clf.score(X, Y)                     # 決定係数\n",
    "print(r2)"
   ]
  },
  {
   "cell_type": "markdown",
   "metadata": {},
   "source": [
    "## 上記の重回帰分析の結果から、順位は以下の式で表せる"
   ]
  },
  {
   "cell_type": "markdown",
   "metadata": {},
   "source": [
    "## 順位=-0.0296639x総収入百万円-0.00250727x人件費百万円+11.81572217"
   ]
  },
  {
   "cell_type": "markdown",
   "metadata": {},
   "source": [
    "## 次に、この重回帰分析の結果を３次元グラフに表してみます。<br>\n",
    "■表示内容<br>\n",
    "実際のデータ；Dataset<br>\n",
    "回帰式;Regression plane<br>\n",
    "として表す<br>\n"
   ]
  },
  {
   "cell_type": "code",
   "execution_count": null,
   "metadata": {},
   "outputs": [],
   "source": [
    "from mpl_toolkits.mplot3d import Axes3D\n",
    "# パラメータからモデルを可視化するために3次元データを作成する\n",
    "X1 = np.arange(0, 1500, 200)                             # x軸を作成\n",
    "X2 = np.arange(0, 2500, 500)                             # y軸を作成\n",
    "XX, YY = np.meshgrid(X1, X2)                             # x軸とy軸からグリッドデータを作成\n",
    "Z = reg_w0 + (reg_wn[0] * XX) + (reg_wn[1] * YY)   # 回帰平面のz値を作成\n",
    " \n",
    "# データを用意する\n",
    "#w0 = 1.0                              # 定数\n",
    "#w1 = -1.4                             # 係数1\n",
    "#w2 = -0.1                             # 係数2\n",
    "#x1 = np.random.uniform(0, 10, 300)    # ノイズを含んだx軸を作成\n",
    "#x2 = np.random.uniform(0, 10, 300)    # ノイズを含んだy軸を作成\n",
    " \n",
    "# ノイズを含んだ平面点列データを作成\n",
    "#y = w0 + (w1 * x1) + (w2 * x2) + np.random.uniform(0, 5, 300)\n",
    "\n",
    "# ここからグラフ描画\n",
    "# フォントの種類とサイズを設定する。\n",
    "plt.rcParams['font.size'] = 14\n",
    "#plt.rcParams['font.family'] = 'Times New Roman'\n",
    " \n",
    "# グラフの入れ物を用意する。\n",
    "fig = plt.figure()\n",
    "ax1 = Axes3D(fig)\n",
    " \n",
    "# 軸のラベルを設定する。\n",
    "ax1.set_xlabel('Labor-cost')\n",
    "ax1.set_ylabel('Total-income')\n",
    "ax1.set_zlabel('y')\n",
    " \n",
    "# データプロットする。\n",
    "ax1.scatter3D(x1, x2, Y, c='red',label='Dataset')\n",
    "ax1.plot_wireframe(XX, YY, Z, label='Regression plane')\n",
    "plt.legend()\n",
    " \n",
    "# グラフを表示する。\n",
    "plt.show()\n",
    "plt.close()"
   ]
  },
  {
   "cell_type": "code",
   "execution_count": null,
   "metadata": {},
   "outputs": [],
   "source": []
  }
 ],
 "metadata": {
  "colab": {
   "name": "regression.ipynb",
   "provenance": []
  },
  "kernelspec": {
   "display_name": "Python 3",
   "language": "python",
   "name": "python3"
  },
  "language_info": {
   "codemirror_mode": {
    "name": "ipython",
    "version": 3
   },
   "file_extension": ".py",
   "mimetype": "text/x-python",
   "name": "python",
   "nbconvert_exporter": "python",
   "pygments_lexer": "ipython3",
   "version": "3.8.4"
  }
 },
 "nbformat": 4,
 "nbformat_minor": 4
}
